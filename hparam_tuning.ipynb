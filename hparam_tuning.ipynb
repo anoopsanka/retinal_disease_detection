{
 "cells": [
  {
   "cell_type": "code",
   "execution_count": 1,
   "metadata": {},
   "outputs": [],
   "source": [
    "from data_pipeline import *\n",
    "from model import *\n",
    "import tensorflow as tf\n",
    "import datetime\n",
    "from constants import *"
   ]
  },
  {
   "cell_type": "code",
   "execution_count": 2,
   "metadata": {},
   "outputs": [
    {
     "name": "stdout",
     "output_type": "stream",
     "text": [
      "Found 551 validated image filenames belonging to 3 classes.\n",
      "Found 1288 validated image filenames belonging to 3 classes.\n"
     ]
    }
   ],
   "source": [
    "train_generator, valid_generator = get_data_generators(DATA_DIR, IMAGE_SIZE, BATCH_SIZE)"
   ]
  },
  {
   "cell_type": "code",
   "execution_count": 3,
   "metadata": {},
   "outputs": [],
   "source": [
    "model = resnet_model(input_shape=INPUT_SHAPE, num_classes = len(train_generator.class_indices))"
   ]
  },
  {
   "cell_type": "code",
   "execution_count": 4,
   "metadata": {},
   "outputs": [
    {
     "name": "stdout",
     "output_type": "stream",
     "text": [
      "Model: \"sequential\"\n",
      "_________________________________________________________________\n",
      "Layer (type)                 Output Shape              Param #   \n",
      "=================================================================\n",
      "resnet50v2 (Functional)      (None, 2048)              23564800  \n",
      "_________________________________________________________________\n",
      "last_dense (Dense)           (None, 3)                 6147      \n",
      "_________________________________________________________________\n",
      "activation (Activation)      (None, 3)                 0         \n",
      "=================================================================\n",
      "Total params: 23,570,947\n",
      "Trainable params: 6,147\n",
      "Non-trainable params: 23,564,800\n",
      "_________________________________________________________________\n"
     ]
    }
   ],
   "source": [
    "model.summary()"
   ]
  },
  {
   "cell_type": "code",
   "execution_count": 5,
   "metadata": {},
   "outputs": [],
   "source": [
    "conv_base = model.layers[0]\n",
    "for i in range(-8,0):\n",
    "    conv_base.layers[i].trainable = True"
   ]
  },
  {
   "cell_type": "code",
   "execution_count": 6,
   "metadata": {},
   "outputs": [],
   "source": [
    "learning_rate = 1e-3\n",
    "model.compile(\n",
    "  #optimizer=tf.keras.optimizers.SGD(lr=0.005, momentum=0.9), \n",
    "  optimizer=tf.keras.optimizers.RMSprop(learning_rate=learning_rate), \n",
    "  loss=tf.keras.losses.CategoricalCrossentropy(),\n",
    "  metrics=['accuracy'])"
   ]
  },
  {
   "cell_type": "code",
   "execution_count": 7,
   "metadata": {},
   "outputs": [],
   "source": [
    "log_path = LOG_DIR + 'resnet50v2_retrain_8layers_lr_1e-3' + datetime.datetime.now().strftime('%Y%m%d-%H%M%S')\n",
    "tensorboard_callback = tf.keras.callbacks.TensorBoard(log_dir=log_path, histogram_freq=1)"
   ]
  },
  {
   "cell_type": "code",
   "execution_count": 8,
   "metadata": {},
   "outputs": [],
   "source": [
    "checkpoint_kwargs = dict(monitor='loss', verbose=1, save_best_only=True)\n",
    "model_checkpoint = tf.keras.callbacks.ModelCheckpoint(MODEL_CHECKPOINT_DIR+'resnet50v2_retrain_8layers_lr_1e-3.hdf5', **checkpoint_kwargs)"
   ]
  },
  {
   "cell_type": "code",
   "execution_count": 9,
   "metadata": {},
   "outputs": [],
   "source": [
    "steps_per_epoch = train_generator.samples // train_generator.batch_size\n",
    "validation_steps = valid_generator.samples // valid_generator.batch_size\n",
    "\n",
    "fit_kwargs = dict(steps_per_epoch=steps_per_epoch, epochs=30, validation_steps=validation_steps, \n",
    "                  validation_data=valid_generator, verbose=1, callbacks = [tensorboard_callback, model_checkpoint])"
   ]
  },
  {
   "cell_type": "code",
   "execution_count": 10,
   "metadata": {},
   "outputs": [
    {
     "name": "stdout",
     "output_type": "stream",
     "text": [
      "Epoch 1/30\n",
      " 1/40 [..............................] - ETA: 0s - loss: 1.1090 - accuracy: 0.3750WARNING:tensorflow:From /home/rocky/miniconda3/envs/tf/lib/python3.8/site-packages/tensorflow/python/ops/summary_ops_v2.py:1277: stop (from tensorflow.python.eager.profiler) is deprecated and will be removed after 2020-07-01.\n",
      "Instructions for updating:\n",
      "use `tf.profiler.experimental.stop` instead.\n",
      "40/40 [==============================] - ETA: 0s - loss: 0.7648 - accuracy: 0.6505\n",
      "Epoch 00001: loss improved from inf to 0.76482, saving model to ./model_checkpoints/resnet50v2_retrain_8layers_lr_1e-3.hdf5\n",
      "40/40 [==============================] - 10s 250ms/step - loss: 0.7648 - accuracy: 0.6505 - val_loss: 0.6681 - val_accuracy: 0.7279\n",
      "Epoch 2/30\n",
      "40/40 [==============================] - ETA: 0s - loss: 0.5939 - accuracy: 0.7523\n",
      "Epoch 00002: loss improved from 0.76482 to 0.59391, saving model to ./model_checkpoints/resnet50v2_retrain_8layers_lr_1e-3.hdf5\n",
      "40/40 [==============================] - 9s 230ms/step - loss: 0.5939 - accuracy: 0.7523 - val_loss: 0.6212 - val_accuracy: 0.7537\n",
      "Epoch 3/30\n",
      "40/40 [==============================] - ETA: 0s - loss: 0.5303 - accuracy: 0.7914\n",
      "Epoch 00003: loss improved from 0.59391 to 0.53033, saving model to ./model_checkpoints/resnet50v2_retrain_8layers_lr_1e-3.hdf5\n",
      "40/40 [==============================] - 9s 227ms/step - loss: 0.5303 - accuracy: 0.7914 - val_loss: 0.5589 - val_accuracy: 0.7923\n",
      "Epoch 4/30\n",
      "40/40 [==============================] - ETA: 0s - loss: 0.4976 - accuracy: 0.8025\n",
      "Epoch 00004: loss improved from 0.53033 to 0.49764, saving model to ./model_checkpoints/resnet50v2_retrain_8layers_lr_1e-3.hdf5\n",
      "40/40 [==============================] - 9s 228ms/step - loss: 0.4976 - accuracy: 0.8025 - val_loss: 0.5897 - val_accuracy: 0.7610\n",
      "Epoch 5/30\n",
      "40/40 [==============================] - ETA: 0s - loss: 0.4732 - accuracy: 0.8240\n",
      "Epoch 00005: loss improved from 0.49764 to 0.47318, saving model to ./model_checkpoints/resnet50v2_retrain_8layers_lr_1e-3.hdf5\n",
      "40/40 [==============================] - 9s 230ms/step - loss: 0.4732 - accuracy: 0.8240 - val_loss: 0.5074 - val_accuracy: 0.7960\n",
      "Epoch 6/30\n",
      "40/40 [==============================] - ETA: 0s - loss: 0.4502 - accuracy: 0.8368\n",
      "Epoch 00006: loss improved from 0.47318 to 0.45024, saving model to ./model_checkpoints/resnet50v2_retrain_8layers_lr_1e-3.hdf5\n",
      "40/40 [==============================] - 9s 226ms/step - loss: 0.4502 - accuracy: 0.8368 - val_loss: 0.4982 - val_accuracy: 0.8125\n",
      "Epoch 7/30\n",
      "40/40 [==============================] - ETA: 0s - loss: 0.4494 - accuracy: 0.8400\n",
      "Epoch 00007: loss improved from 0.45024 to 0.44938, saving model to ./model_checkpoints/resnet50v2_retrain_8layers_lr_1e-3.hdf5\n",
      "40/40 [==============================] - 9s 230ms/step - loss: 0.4494 - accuracy: 0.8400 - val_loss: 0.5016 - val_accuracy: 0.7960\n",
      "Epoch 8/30\n",
      "40/40 [==============================] - ETA: 0s - loss: 0.4188 - accuracy: 0.8432\n",
      "Epoch 00008: loss improved from 0.44938 to 0.41877, saving model to ./model_checkpoints/resnet50v2_retrain_8layers_lr_1e-3.hdf5\n",
      "40/40 [==============================] - 9s 228ms/step - loss: 0.4188 - accuracy: 0.8432 - val_loss: 0.4984 - val_accuracy: 0.8088\n",
      "Epoch 9/30\n",
      "40/40 [==============================] - ETA: 0s - loss: 0.4159 - accuracy: 0.8511\n",
      "Epoch 00009: loss improved from 0.41877 to 0.41586, saving model to ./model_checkpoints/resnet50v2_retrain_8layers_lr_1e-3.hdf5\n",
      "40/40 [==============================] - 9s 225ms/step - loss: 0.4159 - accuracy: 0.8511 - val_loss: 0.4886 - val_accuracy: 0.8199\n",
      "Epoch 10/30\n",
      "40/40 [==============================] - ETA: 0s - loss: 0.4037 - accuracy: 0.8575\n",
      "Epoch 00010: loss improved from 0.41586 to 0.40366, saving model to ./model_checkpoints/resnet50v2_retrain_8layers_lr_1e-3.hdf5\n",
      "40/40 [==============================] - 9s 225ms/step - loss: 0.4037 - accuracy: 0.8575 - val_loss: 0.5045 - val_accuracy: 0.8143\n",
      "Epoch 11/30\n",
      "40/40 [==============================] - ETA: 0s - loss: 0.3980 - accuracy: 0.8734\n",
      "Epoch 00011: loss improved from 0.40366 to 0.39802, saving model to ./model_checkpoints/resnet50v2_retrain_8layers_lr_1e-3.hdf5\n",
      "40/40 [==============================] - 9s 231ms/step - loss: 0.3980 - accuracy: 0.8734 - val_loss: 0.4822 - val_accuracy: 0.8143\n",
      "Epoch 12/30\n",
      "40/40 [==============================] - ETA: 0s - loss: 0.4005 - accuracy: 0.8734\n",
      "Epoch 00012: loss did not improve from 0.39802\n",
      "40/40 [==============================] - 9s 219ms/step - loss: 0.4005 - accuracy: 0.8734 - val_loss: 0.4839 - val_accuracy: 0.8107\n",
      "Epoch 13/30\n",
      "40/40 [==============================] - ETA: 0s - loss: 0.3788 - accuracy: 0.8925\n",
      "Epoch 00013: loss improved from 0.39802 to 0.37882, saving model to ./model_checkpoints/resnet50v2_retrain_8layers_lr_1e-3.hdf5\n",
      "40/40 [==============================] - 9s 227ms/step - loss: 0.3788 - accuracy: 0.8925 - val_loss: 0.4894 - val_accuracy: 0.8015\n",
      "Epoch 14/30\n",
      "40/40 [==============================] - ETA: 0s - loss: 0.3749 - accuracy: 0.8941\n",
      "Epoch 00014: loss improved from 0.37882 to 0.37487, saving model to ./model_checkpoints/resnet50v2_retrain_8layers_lr_1e-3.hdf5\n",
      "40/40 [==============================] - 9s 227ms/step - loss: 0.3749 - accuracy: 0.8941 - val_loss: 0.4856 - val_accuracy: 0.8290\n",
      "Epoch 15/30\n",
      "40/40 [==============================] - ETA: 0s - loss: 0.3727 - accuracy: 0.8941\n",
      "Epoch 00015: loss improved from 0.37487 to 0.37273, saving model to ./model_checkpoints/resnet50v2_retrain_8layers_lr_1e-3.hdf5\n",
      "40/40 [==============================] - 9s 227ms/step - loss: 0.3727 - accuracy: 0.8941 - val_loss: 0.5036 - val_accuracy: 0.8033\n",
      "Epoch 16/30\n",
      "40/40 [==============================] - ETA: 0s - loss: 0.3900 - accuracy: 0.8838\n",
      "Epoch 00016: loss did not improve from 0.37273\n",
      "40/40 [==============================] - 9s 219ms/step - loss: 0.3900 - accuracy: 0.8838 - val_loss: 0.5208 - val_accuracy: 0.7960\n",
      "Epoch 17/30\n",
      "40/40 [==============================] - ETA: 0s - loss: 0.3761 - accuracy: 0.8941\n",
      "Epoch 00017: loss did not improve from 0.37273\n",
      "40/40 [==============================] - 9s 220ms/step - loss: 0.3761 - accuracy: 0.8941 - val_loss: 0.5015 - val_accuracy: 0.8180\n",
      "Epoch 18/30\n",
      "40/40 [==============================] - ETA: 0s - loss: 0.3695 - accuracy: 0.9029\n",
      "Epoch 00018: loss improved from 0.37273 to 0.36949, saving model to ./model_checkpoints/resnet50v2_retrain_8layers_lr_1e-3.hdf5\n",
      "40/40 [==============================] - 9s 226ms/step - loss: 0.3695 - accuracy: 0.9029 - val_loss: 0.4879 - val_accuracy: 0.8143\n",
      "Epoch 19/30\n",
      "40/40 [==============================] - ETA: 0s - loss: 0.3636 - accuracy: 0.9013\n",
      "Epoch 00019: loss improved from 0.36949 to 0.36363, saving model to ./model_checkpoints/resnet50v2_retrain_8layers_lr_1e-3.hdf5\n",
      "40/40 [==============================] - 9s 229ms/step - loss: 0.3636 - accuracy: 0.9013 - val_loss: 0.5174 - val_accuracy: 0.8143\n",
      "Epoch 20/30\n",
      "40/40 [==============================] - ETA: 0s - loss: 0.3687 - accuracy: 0.9005\n",
      "Epoch 00020: loss did not improve from 0.36363\n",
      "40/40 [==============================] - 9s 219ms/step - loss: 0.3687 - accuracy: 0.9005 - val_loss: 0.5465 - val_accuracy: 0.7794\n",
      "Epoch 21/30\n",
      "40/40 [==============================] - ETA: 0s - loss: 0.3666 - accuracy: 0.8957\n",
      "Epoch 00021: loss did not improve from 0.36363\n",
      "40/40 [==============================] - 9s 220ms/step - loss: 0.3666 - accuracy: 0.8957 - val_loss: 0.5038 - val_accuracy: 0.8143\n",
      "Epoch 22/30\n",
      "40/40 [==============================] - ETA: 0s - loss: 0.3417 - accuracy: 0.9283\n",
      "Epoch 00022: loss improved from 0.36363 to 0.34169, saving model to ./model_checkpoints/resnet50v2_retrain_8layers_lr_1e-3.hdf5\n",
      "40/40 [==============================] - 9s 226ms/step - loss: 0.3417 - accuracy: 0.9283 - val_loss: 0.4995 - val_accuracy: 0.8180\n",
      "Epoch 23/30\n",
      "40/40 [==============================] - ETA: 0s - loss: 0.3599 - accuracy: 0.9053\n",
      "Epoch 00023: loss did not improve from 0.34169\n",
      "40/40 [==============================] - 9s 220ms/step - loss: 0.3599 - accuracy: 0.9053 - val_loss: 0.4955 - val_accuracy: 0.8217\n",
      "Epoch 24/30\n",
      "40/40 [==============================] - ETA: 0s - loss: 0.3461 - accuracy: 0.9188\n",
      "Epoch 00024: loss did not improve from 0.34169\n",
      "40/40 [==============================] - 9s 219ms/step - loss: 0.3461 - accuracy: 0.9188 - val_loss: 0.5247 - val_accuracy: 0.8015\n"
     ]
    },
    {
     "name": "stdout",
     "output_type": "stream",
     "text": [
      "Epoch 25/30\n",
      "40/40 [==============================] - ETA: 0s - loss: 0.3538 - accuracy: 0.9180\n",
      "Epoch 00025: loss did not improve from 0.34169\n",
      "40/40 [==============================] - 9s 219ms/step - loss: 0.3538 - accuracy: 0.9180 - val_loss: 0.5071 - val_accuracy: 0.8235\n",
      "Epoch 26/30\n",
      "40/40 [==============================] - ETA: 0s - loss: 0.3498 - accuracy: 0.9204\n",
      "Epoch 00026: loss did not improve from 0.34169\n",
      "40/40 [==============================] - 9s 218ms/step - loss: 0.3498 - accuracy: 0.9204 - val_loss: 0.5010 - val_accuracy: 0.8162\n",
      "Epoch 27/30\n",
      "39/40 [============================>.] - ETA: 0s - loss: 0.3474 - accuracy: 0.9151\n",
      "Epoch 00027: loss did not improve from 0.34169\n",
      "40/40 [==============================] - 9s 219ms/step - loss: 0.3485 - accuracy: 0.9140 - val_loss: 0.5248 - val_accuracy: 0.7996\n",
      "Epoch 28/30\n",
      "40/40 [==============================] - ETA: 0s - loss: 0.3458 - accuracy: 0.9196\n",
      "Epoch 00028: loss did not improve from 0.34169\n",
      "40/40 [==============================] - 9s 221ms/step - loss: 0.3458 - accuracy: 0.9196 - val_loss: 0.5052 - val_accuracy: 0.8162\n",
      "Epoch 29/30\n",
      "40/40 [==============================] - ETA: 0s - loss: 0.3375 - accuracy: 0.9228\n",
      "Epoch 00029: loss improved from 0.34169 to 0.33748, saving model to ./model_checkpoints/resnet50v2_retrain_8layers_lr_1e-3.hdf5\n",
      "40/40 [==============================] - 9s 226ms/step - loss: 0.3375 - accuracy: 0.9228 - val_loss: 0.5173 - val_accuracy: 0.8143\n",
      "Epoch 30/30\n",
      "40/40 [==============================] - ETA: 0s - loss: 0.3581 - accuracy: 0.9180\n",
      "Epoch 00030: loss did not improve from 0.33748\n",
      "40/40 [==============================] - 9s 218ms/step - loss: 0.3581 - accuracy: 0.9180 - val_loss: 0.5278 - val_accuracy: 0.8051\n"
     ]
    }
   ],
   "source": [
    "out = model.fit(train_generator, **fit_kwargs)"
   ]
  },
  {
   "cell_type": "code",
   "execution_count": 11,
   "metadata": {},
   "outputs": [
    {
     "name": "stdout",
     "output_type": "stream",
     "text": [
      "WARNING:tensorflow:From /home/rocky/miniconda3/envs/tf/lib/python3.8/site-packages/tensorflow/python/training/tracking/tracking.py:111: Model.state_updates (from tensorflow.python.keras.engine.training) is deprecated and will be removed in a future version.\n",
      "Instructions for updating:\n",
      "This property should not be used in TensorFlow 2.0, as updates are applied automatically.\n",
      "WARNING:tensorflow:From /home/rocky/miniconda3/envs/tf/lib/python3.8/site-packages/tensorflow/python/training/tracking/tracking.py:111: Layer.updates (from tensorflow.python.keras.engine.base_layer) is deprecated and will be removed in a future version.\n",
      "Instructions for updating:\n",
      "This property should not be used in TensorFlow 2.0, as updates are applied automatically.\n",
      "INFO:tensorflow:Assets written to: ./model_checkpoints/resnet50v2_retrain_8layers_lr_1e-3/assets\n"
     ]
    }
   ],
   "source": [
    "model.save(MODEL_CHECKPOINT_DIR+'resnet50v2_retrain_8layers_lr_1e-3')"
   ]
  },
  {
   "cell_type": "code",
   "execution_count": 13,
   "metadata": {},
   "outputs": [
    {
     "data": {
      "text/plain": [
       "[<matplotlib.lines.Line2D at 0x7f1c3bd4c550>]"
      ]
     },
     "execution_count": 13,
     "metadata": {},
     "output_type": "execute_result"
    },
    {
     "data": {
      "image/png": "[encoded data removed]",
      "text/plain": [
       "<Figure size 432x288 with 1 Axes>"
      ]
     },
     "metadata": {
      "needs_background": "light"
     },
     "output_type": "display_data"
    },
    {
     "data": {
      "image/png": "[encoded data removed]",
      "text/plain": [
       "<Figure size 432x288 with 1 Axes>"
      ]
     },
     "metadata": {
      "needs_background": "light"
     },
     "output_type": "display_data"
    }
   ],
   "source": [
    "import matplotlib.pyplot as plt\n",
    "hist = out.history\n",
    "plt.figure()\n",
    "plt.ylabel(\"Loss (training and validation)\")\n",
    "plt.xlabel(\"Training Steps\")\n",
    "plt.ylim([0,2])\n",
    "plt.plot(hist[\"loss\"])\n",
    "plt.plot(hist[\"val_loss\"])\n",
    "\n",
    "plt.figure()\n",
    "plt.ylabel(\"Accuracy (training and validation)\")\n",
    "plt.xlabel(\"Training Steps\")\n",
    "plt.ylim([0,1])\n",
    "plt.plot(hist[\"accuracy\"])\n",
    "plt.plot(hist[\"val_accuracy\"])\n"
   ]
  },
  {
   "cell_type": "code",
   "execution_count": null,
   "metadata": {},
   "outputs": [],
   "source": []
  }
 ],
 "metadata": {
  "kernelspec": {
   "display_name": "Python 3",
   "language": "python",
   "name": "python3"
  },
  "language_info": {
   "codemirror_mode": {
    "name": "ipython",
    "version": 3
   },
   "file_extension": ".py",
   "mimetype": "text/x-python",
   "name": "python",
   "nbconvert_exporter": "python",
   "pygments_lexer": "ipython3",
   "version": "3.8.2"
  }
 },
 "nbformat": 4,
 "nbformat_minor": 4
}

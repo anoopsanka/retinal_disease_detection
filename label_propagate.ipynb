{
 "cells": [
  {
   "cell_type": "code",
   "execution_count": 1,
   "metadata": {},
   "outputs": [],
   "source": [
    "import tensorflow as tf\n",
    "from model import *\n",
    "from data_pipeline import *\n",
    "from constants import *\n",
    "import numpy as np\n",
    "import matplotlib.pylab as plt\n",
    "from sklearn.metrics import confusion_matrix\n",
    "import seaborn as sns\n",
    "import os\n",
    "import pandas as pd\n",
    "import shutil\n",
    "import glob\n",
    "%matplotlib inline"
   ]
  },
  {
   "cell_type": "code",
   "execution_count": 38,
   "metadata": {},
   "outputs": [],
   "source": [
    "# processing csv for easy processing\n",
    "data = pd.read_csv('./Data/train/train-filtered.csv')\n",
    "data.rename(columns = {'diabetic retinopathy': 'diabetic_retinopathy'}, inplace=True)\n",
    "labels = dict(diabetic_retinopathy=0, glaucoma=1, normal=2 )\n",
    "tmp = data[list(data.columns[1:])]\n",
    "tmp['label_str'] = tmp.idxmax(axis=1)\n",
    "data['label_str'] = tmp['label_str']\n",
    "data['label'] = data['label_str'].apply(lambda x: labels[x])"
   ]
  },
  {
   "cell_type": "code",
   "execution_count": 3,
   "metadata": {},
   "outputs": [],
   "source": [
    "model = tf.keras.models.load_model(MODEL_CHECKPOINT_DIR+'resnet50v2_retrain_8layers_lr_1e-3')"
   ]
  },
  {
   "cell_type": "code",
   "execution_count": 4,
   "metadata": {},
   "outputs": [],
   "source": [
    "# grab the features learnt and create a new data set\n",
    "training_data = []\n",
    "for _, row in data.iterrows():\n",
    "    file_path = os.path.join(DATA_DIR, row.filename)\n",
    "    img = tf.keras.preprocessing.image.load_img(file_path, target_size=IMAGE_SIZE, interpolation='bilinear')\n",
    "    img = tf.keras.preprocessing.image.img_to_array(img)\n",
    "    encoded_features = model.layers[0].predict(np.array([img]))\n",
    "    training_data.append((row.filename, encoded_features[0], row.label))"
   ]
  },
  {
   "cell_type": "code",
   "execution_count": 5,
   "metadata": {},
   "outputs": [
    {
     "data": {
      "text/plain": [
       "1839"
      ]
     },
     "execution_count": 5,
     "metadata": {},
     "output_type": "execute_result"
    }
   ],
   "source": [
    "len(training_data)"
   ]
  },
  {
   "cell_type": "code",
   "execution_count": 7,
   "metadata": {},
   "outputs": [
    {
     "data": {
      "text/plain": [
       "((1839, 2048), (1839,), array([0, 1, 2]))"
      ]
     },
     "execution_count": 7,
     "metadata": {},
     "output_type": "execute_result"
    }
   ],
   "source": [
    "X_train = np.array([np.array(x[1]) for x in training_data])\n",
    "y_train = np.array([np.array(x[2]) for x in training_data])\n",
    "X_train.shape, y_train.shape, np.unique(y_train)"
   ]
  },
  {
   "cell_type": "code",
   "execution_count": 9,
   "metadata": {},
   "outputs": [
    {
     "data": {
      "text/plain": [
       "MiniBatchKMeans(n_clusters=3)"
      ]
     },
     "execution_count": 9,
     "metadata": {},
     "output_type": "execute_result"
    }
   ],
   "source": [
    "# fit k-means on the encoding(features learnt)\n",
    "from sklearn.cluster import MiniBatchKMeans\n",
    "total_clusters = len(np.unique(y_train))\n",
    "kmeans = MiniBatchKMeans(n_clusters = len(np.unique(y_train)))\n",
    "kmeans.fit(X_train)"
   ]
  },
  {
   "cell_type": "code",
   "execution_count": 11,
   "metadata": {},
   "outputs": [],
   "source": [
    "# prepage unlabelled data to get encodings\n",
    "from pathlib import Path\n",
    "unlabelled_data = []\n",
    "unlabelled_data_dir = './Data/test/test/'\n",
    "for filename in glob.glob(os.path.join(unlabelled_data_dir, '*.jpg')):\n",
    "    img = tf.keras.preprocessing.image.load_img(filename, target_size=IMAGE_SIZE, interpolation='bilinear')\n",
    "    img = tf.keras.preprocessing.image.img_to_array(img)\n",
    "    encoded_features = model.layers[0].predict(np.array([img]))\n",
    "    unlabelled_data.append((Path(filename).name, encoded_features[0]))"
   ]
  },
  {
   "cell_type": "code",
   "execution_count": 12,
   "metadata": {},
   "outputs": [
    {
     "data": {
      "text/plain": [
       "350"
      ]
     },
     "execution_count": 12,
     "metadata": {},
     "output_type": "execute_result"
    }
   ],
   "source": [
    "len(unlabelled_data)"
   ]
  },
  {
   "cell_type": "code",
   "execution_count": 13,
   "metadata": {},
   "outputs": [],
   "source": [
    "X_test = np.array([np.array(x[1]) for x in unlabelled_data])\n",
    "y_pred = kmeans.predict(X_test)"
   ]
  },
  {
   "cell_type": "code",
   "execution_count": 14,
   "metadata": {},
   "outputs": [
    {
     "data": {
      "text/plain": [
       "array([0, 1, 2], dtype=int32)"
      ]
     },
     "execution_count": 14,
     "metadata": {},
     "output_type": "execute_result"
    }
   ],
   "source": [
    "np.unique(y_pred)"
   ]
  },
  {
   "cell_type": "code",
   "execution_count": 39,
   "metadata": {},
   "outputs": [],
   "source": [
    "# creating new csv with labels for previous unlabelled data\n",
    "inv_labels = {v: k for k, v in labels.items()}\n",
    "tmp = pd.DataFrame(data=None, columns=data.columns)\n",
    "for x, y in zip(unlabelled_data, y_pred):\n",
    "    label_name = inv_labels[y]\n",
    "    tmp = tmp.append({'filename': x[0], 'label_str': inv_labels[y], 'label':int(y), label_name:1}, ignore_index=True)\n",
    "tmp = tmp.fillna(int(0))"
   ]
  },
  {
   "cell_type": "code",
   "execution_count": 40,
   "metadata": {},
   "outputs": [
    {
     "data": {
      "text/html": [
       "<div>\n",
       "<style scoped>\n",
       "    .dataframe tbody tr th:only-of-type {\n",
       "        vertical-align: middle;\n",
       "    }\n",
       "\n",
       "    .dataframe tbody tr th {\n",
       "        vertical-align: top;\n",
       "    }\n",
       "\n",
       "    .dataframe thead th {\n",
       "        text-align: right;\n",
       "    }\n",
       "</style>\n",
       "<table border=\"1\" class=\"dataframe\">\n",
       "  <thead>\n",
       "    <tr style=\"text-align: right;\">\n",
       "      <th></th>\n",
       "      <th>filename</th>\n",
       "      <th>diabetic_retinopathy</th>\n",
       "      <th>glaucoma</th>\n",
       "      <th>normal</th>\n",
       "      <th>label_str</th>\n",
       "      <th>label</th>\n",
       "    </tr>\n",
       "  </thead>\n",
       "  <tbody>\n",
       "    <tr>\n",
       "      <th>0</th>\n",
       "      <td>43fb472ae7e8.jpg</td>\n",
       "      <td>0</td>\n",
       "      <td>1</td>\n",
       "      <td>0</td>\n",
       "      <td>glaucoma</td>\n",
       "      <td>1</td>\n",
       "    </tr>\n",
       "    <tr>\n",
       "      <th>1</th>\n",
       "      <td>2f091a49f704.jpg</td>\n",
       "      <td>0</td>\n",
       "      <td>1</td>\n",
       "      <td>0</td>\n",
       "      <td>glaucoma</td>\n",
       "      <td>1</td>\n",
       "    </tr>\n",
       "    <tr>\n",
       "      <th>2</th>\n",
       "      <td>352052af1e29.jpg</td>\n",
       "      <td>1</td>\n",
       "      <td>0</td>\n",
       "      <td>0</td>\n",
       "      <td>diabetic_retinopathy</td>\n",
       "      <td>0</td>\n",
       "    </tr>\n",
       "    <tr>\n",
       "      <th>3</th>\n",
       "      <td>3babd2098a14.jpg</td>\n",
       "      <td>1</td>\n",
       "      <td>0</td>\n",
       "      <td>0</td>\n",
       "      <td>diabetic_retinopathy</td>\n",
       "      <td>0</td>\n",
       "    </tr>\n",
       "    <tr>\n",
       "      <th>4</th>\n",
       "      <td>2eecb9318d63.jpg</td>\n",
       "      <td>1</td>\n",
       "      <td>0</td>\n",
       "      <td>0</td>\n",
       "      <td>diabetic_retinopathy</td>\n",
       "      <td>0</td>\n",
       "    </tr>\n",
       "  </tbody>\n",
       "</table>\n",
       "</div>"
      ],
      "text/plain": [
       "           filename  diabetic_retinopathy  glaucoma  normal  \\\n",
       "0  43fb472ae7e8.jpg                     0         1       0   \n",
       "1  2f091a49f704.jpg                     0         1       0   \n",
       "2  352052af1e29.jpg                     1         0       0   \n",
       "3  3babd2098a14.jpg                     1         0       0   \n",
       "4  2eecb9318d63.jpg                     1         0       0   \n",
       "\n",
       "              label_str  label  \n",
       "0              glaucoma      1  \n",
       "1              glaucoma      1  \n",
       "2  diabetic_retinopathy      0  \n",
       "3  diabetic_retinopathy      0  \n",
       "4  diabetic_retinopathy      0  "
      ]
     },
     "execution_count": 40,
     "metadata": {},
     "output_type": "execute_result"
    }
   ],
   "source": [
    "tmp.head()"
   ]
  },
  {
   "cell_type": "code",
   "execution_count": 41,
   "metadata": {},
   "outputs": [],
   "source": [
    "#copy unlabelled data to train\n",
    "src_file_path = './Data'\n",
    "for _, row in tmp.iterrows():\n",
    "    src_file_path = os.path.join(unlabelled_data_dir, row.filename)\n",
    "    dest_file_path = os.path.join(DATA_DIR, row.filename)\n",
    "    shutil.copy(src_file_path, dest_file_path)"
   ]
  },
  {
   "cell_type": "code",
   "execution_count": 42,
   "metadata": {},
   "outputs": [],
   "source": [
    "# prepare new csv that includes unlabelled data.\n",
    "data = data.append(tmp, ignore_index=True)\n",
    "data.rename(columns = {'diabetic_retinopathy': 'diabetic retinopathy'}, inplace=True)\n",
    "data = data[['filename','diabetic retinopathy',  'glaucoma', 'normal']]\n",
    "data.to_csv(os.path.join('./Data/train/train_augmented.csv'))"
   ]
  },
  {
   "cell_type": "code",
   "execution_count": 43,
   "metadata": {},
   "outputs": [
    {
     "name": "stdout",
     "output_type": "stream",
     "text": [
      "Found 551 validated image filenames belonging to 3 classes.\n",
      "Found 1288 validated image filenames belonging to 3 classes.\n"
     ]
    }
   ],
   "source": [
    "train_generator, valid_generator = get_data_generators(DATA_DIR, IMAGE_SIZE, BATCH_SIZE)"
   ]
  },
  {
   "cell_type": "code",
   "execution_count": 44,
   "metadata": {},
   "outputs": [
    {
     "name": "stdout",
     "output_type": "stream",
     "text": [
      "41/41 - 6s - loss: 0.3694 - accuracy: 0.9045\n"
     ]
    }
   ],
   "source": [
    "#model accuracy against unlabelled data\n",
    "loss, acc = model.evaluate(train_generator, verbose=2)"
   ]
  },
  {
   "cell_type": "code",
   "execution_count": 45,
   "metadata": {},
   "outputs": [
    {
     "name": "stdout",
     "output_type": "stream",
     "text": [
      "18/18 - 2s - loss: 0.4046 - accuracy: 0.8838\n"
     ]
    }
   ],
   "source": [
    "loss, acc = model.evaluate(valid_generator, verbose=2)"
   ]
  },
  {
   "cell_type": "code",
   "execution_count": 46,
   "metadata": {},
   "outputs": [
    {
     "name": "stdout",
     "output_type": "stream",
     "text": [
      "Found 656 validated image filenames belonging to 3 classes.\n",
      "Found 1533 validated image filenames belonging to 3 classes.\n"
     ]
    }
   ],
   "source": [
    "# get generators against new csv\n",
    "train_generator, valid_generator = get_data_generators(DATA_DIR, IMAGE_SIZE, BATCH_SIZE, csv_file='./Data/train/train_augmented.csv')"
   ]
  },
  {
   "cell_type": "code",
   "execution_count": 47,
   "metadata": {},
   "outputs": [
    {
     "name": "stdout",
     "output_type": "stream",
     "text": [
      "48/48 - 7s - loss: 0.8352 - accuracy: 0.7704\n"
     ]
    }
   ],
   "source": [
    "loss, acc = model.evaluate(train_generator, verbose=2)"
   ]
  },
  {
   "cell_type": "code",
   "execution_count": 48,
   "metadata": {},
   "outputs": [
    {
     "name": "stdout",
     "output_type": "stream",
     "text": [
      "21/21 - 3s - loss: 0.3924 - accuracy: 0.8918\n"
     ]
    }
   ],
   "source": [
    "loss, acc = model.evaluate(valid_generator, verbose=2)"
   ]
  },
  {
   "cell_type": "code",
   "execution_count": null,
   "metadata": {},
   "outputs": [],
   "source": [
    "# Vanilla evaluation without retraining => generalization much needed\n",
    "# Retraining with new data set"
   ]
  },
  {
   "cell_type": "code",
   "execution_count": 49,
   "metadata": {},
   "outputs": [],
   "source": [
    "model = resnet_model(input_shape=INPUT_SHAPE, num_classes = len(train_generator.class_indices))"
   ]
  },
  {
   "cell_type": "code",
   "execution_count": 50,
   "metadata": {},
   "outputs": [],
   "source": [
    "conv_base = model.layers[0]\n",
    "for i in range(-8,0):\n",
    "    conv_base.layers[i].trainable = True"
   ]
  },
  {
   "cell_type": "code",
   "execution_count": 51,
   "metadata": {},
   "outputs": [],
   "source": [
    "learning_rate = 1e-3\n",
    "model.compile(\n",
    "  #optimizer=tf.keras.optimizers.SGD(lr=0.005, momentum=0.9), \n",
    "  optimizer=tf.keras.optimizers.RMSprop(learning_rate=learning_rate), \n",
    "  loss=tf.keras.losses.CategoricalCrossentropy(),\n",
    "  metrics=['accuracy'])"
   ]
  },
  {
   "cell_type": "code",
   "execution_count": 52,
   "metadata": {},
   "outputs": [],
   "source": [
    "steps_per_epoch = train_generator.samples // train_generator.batch_size\n",
    "validation_steps = valid_generator.samples // valid_generator.batch_size\n",
    "\n",
    "fit_kwargs = dict(steps_per_epoch=steps_per_epoch, epochs=30, validation_steps=validation_steps, \n",
    "                  validation_data=valid_generator, verbose=1)"
   ]
  },
  {
   "cell_type": "code",
   "execution_count": 53,
   "metadata": {},
   "outputs": [
    {
     "name": "stdout",
     "output_type": "stream",
     "text": [
      "Epoch 1/30\n",
      "47/47 [==============================] - 10s 206ms/step - loss: 0.8928 - accuracy: 0.5716 - val_loss: 0.7323 - val_accuracy: 0.6531\n",
      "Epoch 2/30\n",
      "47/47 [==============================] - 9s 193ms/step - loss: 0.7701 - accuracy: 0.6762 - val_loss: 0.7279 - val_accuracy: 0.6516\n",
      "Epoch 3/30\n",
      "47/47 [==============================] - 9s 195ms/step - loss: 0.7292 - accuracy: 0.6829 - val_loss: 0.6554 - val_accuracy: 0.7266\n",
      "Epoch 4/30\n",
      "47/47 [==============================] - 9s 194ms/step - loss: 0.6965 - accuracy: 0.7135 - val_loss: 0.6443 - val_accuracy: 0.7578\n",
      "Epoch 5/30\n",
      "47/47 [==============================] - 9s 195ms/step - loss: 0.6624 - accuracy: 0.7482 - val_loss: 0.6166 - val_accuracy: 0.7609\n",
      "Epoch 6/30\n",
      "47/47 [==============================] - 9s 194ms/step - loss: 0.6682 - accuracy: 0.7342 - val_loss: 0.6405 - val_accuracy: 0.7297\n",
      "Epoch 7/30\n",
      "47/47 [==============================] - 9s 195ms/step - loss: 0.6513 - accuracy: 0.7495 - val_loss: 0.6233 - val_accuracy: 0.7469\n",
      "Epoch 8/30\n",
      "47/47 [==============================] - 9s 194ms/step - loss: 0.6407 - accuracy: 0.7542 - val_loss: 0.5953 - val_accuracy: 0.7641\n",
      "Epoch 9/30\n",
      "47/47 [==============================] - 9s 195ms/step - loss: 0.6132 - accuracy: 0.7668 - val_loss: 0.5981 - val_accuracy: 0.7781\n",
      "Epoch 10/30\n",
      "47/47 [==============================] - 9s 196ms/step - loss: 0.6017 - accuracy: 0.7835 - val_loss: 0.5807 - val_accuracy: 0.7750\n",
      "Epoch 11/30\n",
      "47/47 [==============================] - 9s 195ms/step - loss: 0.6023 - accuracy: 0.7728 - val_loss: 0.5874 - val_accuracy: 0.7906\n",
      "Epoch 12/30\n",
      "47/47 [==============================] - 9s 195ms/step - loss: 0.6076 - accuracy: 0.7781 - val_loss: 0.6313 - val_accuracy: 0.7625\n",
      "Epoch 13/30\n",
      "47/47 [==============================] - 9s 194ms/step - loss: 0.5813 - accuracy: 0.7948 - val_loss: 0.5969 - val_accuracy: 0.7859\n",
      "Epoch 14/30\n",
      "47/47 [==============================] - 9s 190ms/step - loss: 0.5933 - accuracy: 0.7921 - val_loss: 0.5978 - val_accuracy: 0.7859\n",
      "Epoch 15/30\n",
      "47/47 [==============================] - 9s 192ms/step - loss: 0.5906 - accuracy: 0.7881 - val_loss: 0.6233 - val_accuracy: 0.7469\n",
      "Epoch 16/30\n",
      "47/47 [==============================] - 9s 191ms/step - loss: 0.5896 - accuracy: 0.8028 - val_loss: 0.6114 - val_accuracy: 0.7734\n",
      "Epoch 17/30\n",
      "47/47 [==============================] - 9s 190ms/step - loss: 0.5845 - accuracy: 0.7888 - val_loss: 0.5905 - val_accuracy: 0.7891\n",
      "Epoch 18/30\n",
      "47/47 [==============================] - 9s 193ms/step - loss: 0.5755 - accuracy: 0.8108 - val_loss: 0.6067 - val_accuracy: 0.7719\n",
      "Epoch 19/30\n",
      "47/47 [==============================] - 9s 192ms/step - loss: 0.5661 - accuracy: 0.7981 - val_loss: 0.6034 - val_accuracy: 0.7922\n",
      "Epoch 20/30\n",
      "47/47 [==============================] - 9s 190ms/step - loss: 0.5643 - accuracy: 0.7995 - val_loss: 0.6003 - val_accuracy: 0.7922\n",
      "Epoch 21/30\n",
      "47/47 [==============================] - 9s 191ms/step - loss: 0.5741 - accuracy: 0.8088 - val_loss: 0.6143 - val_accuracy: 0.7719\n",
      "Epoch 22/30\n",
      "47/47 [==============================] - 9s 193ms/step - loss: 0.5605 - accuracy: 0.8155 - val_loss: 0.6136 - val_accuracy: 0.7766\n",
      "Epoch 23/30\n",
      "47/47 [==============================] - 9s 194ms/step - loss: 0.5642 - accuracy: 0.8208 - val_loss: 0.6298 - val_accuracy: 0.7656\n",
      "Epoch 24/30\n",
      "47/47 [==============================] - 9s 192ms/step - loss: 0.5486 - accuracy: 0.8241 - val_loss: 0.6597 - val_accuracy: 0.7484\n",
      "Epoch 25/30\n",
      "47/47 [==============================] - 9s 192ms/step - loss: 0.5610 - accuracy: 0.8208 - val_loss: 0.6087 - val_accuracy: 0.7891\n",
      "Epoch 26/30\n",
      "47/47 [==============================] - 9s 190ms/step - loss: 0.5537 - accuracy: 0.8195 - val_loss: 0.6292 - val_accuracy: 0.7781\n",
      "Epoch 27/30\n",
      "47/47 [==============================] - 9s 191ms/step - loss: 0.5423 - accuracy: 0.8354 - val_loss: 0.5981 - val_accuracy: 0.7906\n",
      "Epoch 28/30\n",
      "47/47 [==============================] - 9s 192ms/step - loss: 0.5563 - accuracy: 0.8281 - val_loss: 0.6259 - val_accuracy: 0.7891\n",
      "Epoch 29/30\n",
      "47/47 [==============================] - 9s 193ms/step - loss: 0.5556 - accuracy: 0.8281 - val_loss: 0.6836 - val_accuracy: 0.7484\n",
      "Epoch 30/30\n",
      "47/47 [==============================] - 9s 193ms/step - loss: 0.5427 - accuracy: 0.8368 - val_loss: 0.6364 - val_accuracy: 0.7719\n"
     ]
    }
   ],
   "source": [
    "out = model.fit(train_generator, **fit_kwargs)"
   ]
  },
  {
   "cell_type": "code",
   "execution_count": 54,
   "metadata": {},
   "outputs": [],
   "source": [
    "# With label propagate => shows the model performance has decreased, as the unlaballed data set represent more classes (diff distribution) than the filtered one"
   ]
  },
  {
   "cell_type": "code",
   "execution_count": null,
   "metadata": {},
   "outputs": [],
   "source": []
  }
 ],
 "metadata": {
  "kernelspec": {
   "display_name": "Python 3",
   "language": "python",
   "name": "python3"
  },
  "language_info": {
   "codemirror_mode": {
    "name": "ipython",
    "version": 3
   },
   "file_extension": ".py",
   "mimetype": "text/x-python",
   "name": "python",
   "nbconvert_exporter": "python",
   "pygments_lexer": "ipython3",
   "version": "3.8.2"
  }
 },
 "nbformat": 4,
 "nbformat_minor": 4
}
